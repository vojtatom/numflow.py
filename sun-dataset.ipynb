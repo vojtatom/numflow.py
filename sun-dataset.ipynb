{
 "cells": [
  {
   "cell_type": "code",
   "execution_count": 1,
   "metadata": {},
   "outputs": [],
   "source": [
    "from math import isclose\n",
    "from numflow import Dataset, Visualization, points, random_points"
   ]
  },
  {
   "cell_type": "code",
   "execution_count": 2,
   "metadata": {},
   "outputs": [
    {
     "name": "stdout",
     "output_type": "stream",
     "text": [
      "Dataset: tests/testdata/sun.csv\n",
      "Size: 74160000 elements\n",
      "Shape: 600 x 600 x 206\n",
      "Memory consumed: 296640000 bytes\n",
      "X range: 0.000000 - 599.000000\n",
      "Y range: 0.000000 - 599.000000\n",
      "Z range: -205.000000 - 0.000000\n"
     ]
    }
   ],
   "source": [
    "field = Dataset(\"tests/testdata/sun.csv\")\n",
    "print(field.info())"
   ]
  },
  {
   "cell_type": "markdown",
   "metadata": {},
   "source": []
  },
  {
   "cell_type": "code",
   "execution_count": 11,
   "metadata": {},
   "outputs": [
    {
     "name": "stdout",
     "output_type": "stream",
     "text": [
      "RKSolver created\n",
      "t0 0\n",
      "tbound 0.01\n"
     ]
    }
   ],
   "source": [
    "layer_z = -10\n",
    "vis = Visualization()\n",
    "layer = points([20, 20, layer_z], [590, 590, layer_z], [1000, 1000, 1])\n",
    "vis.layer(field, layer)\n",
    "layerS = points([20, 20, layer_z], [590, 590, layer_z], [200, 200, 1])\n",
    "vis.streamlines(field, layerS, tbound=0.01, size=0.2, appearance='transparent', sampling=3, divisions=3)"
   ]
  },
  {
   "cell_type": "code",
   "execution_count": 15,
   "metadata": {},
   "outputs": [],
   "source": [
    "vis = Visualization()\n",
    "layer = points([20, 20, layer_z], [590, 590, layer_z], [1000, 1000, 1])\n",
    "vis.layer(field, layer)\n",
    "layerS = points([20, 20, layer_z], [590, 590, layer_z], [200, 200, 1])\n",
    "randomS = random_points([20, 20, layer_z], [590, 590, layer_z], 200 * 200 * 10)\n",
    "vis.glphys(field, randomS, size=0.2)"
   ]
  },
  {
   "cell_type": "code",
   "execution_count": 16,
   "metadata": {},
   "outputs": [],
   "source": [
    "vis.save(f\"sun-glyphs-{layer_z}.flow\")"
   ]
  },
  {
   "cell_type": "code",
   "execution_count": 6,
   "metadata": {},
   "outputs": [
    {
     "data": {
      "text/plain": [
       "'Dataset: tests/testdata/sun.csv\\nSize: 74160000 elements\\nShape: 600 x 600 x 206\\nMemory consumed: 296640000 bytes\\nX range: 0.000000 - 599.000000\\nY range: 0.000000 - 599.000000\\nZ range: -205.000000 - 0.000000'"
      ]
     },
     "execution_count": 6,
     "metadata": {},
     "output_type": "execute_result"
    }
   ],
   "source": [
    "field.info()"
   ]
  },
  {
   "cell_type": "code",
   "execution_count": null,
   "metadata": {},
   "outputs": [],
   "source": []
  }
 ],
 "metadata": {
  "kernelspec": {
   "display_name": "Python 3",
   "language": "python",
   "name": "python3"
  },
  "language_info": {
   "codemirror_mode": {
    "name": "ipython",
    "version": 3
   },
   "file_extension": ".py",
   "mimetype": "text/x-python",
   "name": "python",
   "nbconvert_exporter": "python",
   "pygments_lexer": "ipython3",
   "version": "3.11.6"
  }
 },
 "nbformat": 4,
 "nbformat_minor": 2
}
